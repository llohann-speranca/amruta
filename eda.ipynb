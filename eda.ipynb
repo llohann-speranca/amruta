{
 "cells": [
  {
   "cell_type": "code",
   "execution_count": null,
   "metadata": {},
   "outputs": [],
   "source": [
    "%load_ext autoreload\n",
    "%autoreload 2"
   ]
  },
  {
   "cell_type": "code",
   "execution_count": null,
   "metadata": {},
   "outputs": [],
   "source": [
    "import polars as pl\n",
    "from talk_reader import TalkReader\n",
    "from glob import glob\n",
    "import os\n",
    "import shutil\n",
    "from pathlib import Path\n",
    "\n",
    "# metadata_df = pl.read_csv(\"data/metadata/metadata.csv\")\n",
    "# len(metadata_df)\n",
    "# for path in glob(\"data/*.docx\"):\n",
    "#     talk_reader = TalkReader(\n",
    "#         path, \"/Users/llohann/Python/amruta/data/metadata/metadata.csv\"\n",
    "#     )\n",
    "#     talk_reader.dump_metadata()\n",
    "os.environ[\"DEBUG\"] = \"0\"\n",
    "original_files_list = list(glob(\"data/original_files/*.docx\"))\n",
    "# first_file = original_files_list[0]\n",
    "\n",
    "_save_folder = \"data/test/output\"\n",
    "metadata_path = \"data/test/metadata.csv\"\n",
    "os.remove(metadata_path)\n",
    "shutil.rmtree(_save_folder, ignore_errors=True)\n",
    "\n",
    "parsing_that_went_wrong = []\n",
    "\n",
    "for file in original_files_list:\n",
    "    save_folder = Path(_save_folder) / Path(file).name[:4]\n",
    "    talk_reader = TalkReader(file, metadata_path, save_folder=save_folder)\n",
    "    metadata = talk_reader.process_document()\n",
    "    if talk_reader.parsing_that_went_wrong:\n",
    "        parsing_that_went_wrong.extend(talk_reader.parsing_that_went_wrong)"
   ]
  },
  {
   "cell_type": "code",
   "execution_count": null,
   "metadata": {},
   "outputs": [],
   "source": [
    "output_files = list(Path(_save_folder).rglob(\"*.docx\"))\n",
    "num_files = len(output_files)\n",
    "print(f\"Number of files in '{save_folder}': {num_files}\")\n"
   ]
  },
  {
   "cell_type": "code",
   "execution_count": null,
   "metadata": {},
   "outputs": [],
   "source": [
    "from tqdm import tqdm\n",
    "import re\n",
    "\n",
    "data = []\n",
    "\n",
    "\n",
    "def extract_lines_starting_with_number(text: str) -> list[str]:\n",
    "    return re.findall(r\"^\\d\\d?[^\\.:]*\\d\\d\\s*$\", text, re.MULTILINE)\n",
    "\n",
    "\n",
    "for file in tqdm(output_files):\n",
    "    talk_reader = TalkReader(file, metadata_path, save_folder=save_folder)\n",
    "    text = talk_reader._get_all_text()\n",
    "    lines_starting_with_number = extract_lines_starting_with_number(text)\n",
    "    data.append(\n",
    "        {\"file\": file, \"lines_starting_with_number\": lines_starting_with_number}\n",
    "    )\n",
    "data = pl.DataFrame(data)\n"
   ]
  },
  {
   "cell_type": "code",
   "execution_count": null,
   "metadata": {},
   "outputs": [],
   "source": [
    "data_filtered = (\n",
    "    data.with_columns(pl.col(\"lines_starting_with_number\").list.len().alias(\"n_lines\"))\n",
    "    .filter(pl.col(\"n_lines\") > 1)\n",
    "    .sort(\"n_lines\")\n",
    ")\n",
    "\n",
    "with pl.Config() as cfg:\n",
    "    cfg.set_tbl_rows(100)\n",
    "    cfg.set_fmt_str_lengths(100)\n",
    "    display(data_filtered)"
   ]
  },
  {
   "cell_type": "code",
   "execution_count": null,
   "metadata": {},
   "outputs": [],
   "source": []
  },
  {
   "cell_type": "markdown",
   "metadata": {},
   "source": [
    "# Reading the metadata"
   ]
  },
  {
   "cell_type": "code",
   "execution_count": null,
   "metadata": {},
   "outputs": [],
   "source": [
    "metadata_df = pl.read_csv(metadata_path)\n",
    "metadata_df.write_excel(metadata_path.replace(\".csv\", \".xlsx\"))\n",
    "len(metadata_df)"
   ]
  },
  {
   "cell_type": "code",
   "execution_count": null,
   "metadata": {},
   "outputs": [],
   "source": [
    "metadata_df.filter(pl.col(\"Comments\").is_not_null())"
   ]
  }
 ],
 "metadata": {
  "kernelspec": {
   "display_name": "amruta",
   "language": "python",
   "name": "python3"
  },
  "language_info": {
   "codemirror_mode": {
    "name": "ipython",
    "version": 3
   },
   "file_extension": ".py",
   "mimetype": "text/x-python",
   "name": "python",
   "nbconvert_exporter": "python",
   "pygments_lexer": "ipython3",
   "version": "3.10.6"
  }
 },
 "nbformat": 4,
 "nbformat_minor": 2
}
