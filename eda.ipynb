{
 "cells": [
  {
   "cell_type": "code",
   "execution_count": 1,
   "metadata": {},
   "outputs": [],
   "source": [
    "%load_ext autoreload\n",
    "%autoreload 2"
   ]
  },
  {
   "cell_type": "code",
   "execution_count": null,
   "metadata": {},
   "outputs": [],
   "source": [
    "import polars as pl\n",
    "from talk_reader import TalkReader\n",
    "from glob import glob\n",
    "import os\n",
    "\n",
    "metadata_df = pl.read_csv(\"data/metadata/metadata.csv\")\n",
    "len(metadata_df)"
   ]
  },
  {
   "cell_type": "code",
   "execution_count": 3,
   "metadata": {},
   "outputs": [],
   "source": [
    "# for path in glob(\"data/*.docx\"):\n",
    "#     talk_reader = TalkReader(\n",
    "#         path, \"/Users/llohann/Python/amruta/data/metadata/metadata.csv\"\n",
    "#     )\n",
    "#     talk_reader.dump_metadata()"
   ]
  },
  {
   "cell_type": "code",
   "execution_count": 4,
   "metadata": {},
   "outputs": [],
   "source": [
    "os.environ[\"DEBUG\"] = \"0\"\n",
    "\n",
    "first_file = list(glob(\"data/*.docx\"))[0]\n",
    "talk_reader = TalkReader(\n",
    "    first_file, \"/Users/llohann/Python/amruta/data/test/metadata.csv\"\n",
    ")"
   ]
  },
  {
   "cell_type": "code",
   "execution_count": 7,
   "metadata": {},
   "outputs": [],
   "source": [
    "text = talk_reader.get_all_text()\n",
    "split_text = text.split(\"##\")\n",
    "split_text = [t.split(\"\\n\\n\") for t in split_text]"
   ]
  },
  {
   "cell_type": "code",
   "execution_count": null,
   "metadata": {},
   "outputs": [],
   "source": [
    "split_text[10]"
   ]
  },
  {
   "cell_type": "code",
   "execution_count": null,
   "metadata": {},
   "outputs": [],
   "source": [
    "talks_that_went_wrong = pl.DataFrame(talk_reader.parsing_that_went_wrong)\n",
    "talks_that_went_wrong"
   ]
  },
  {
   "cell_type": "code",
   "execution_count": null,
   "metadata": {},
   "outputs": [],
   "source": [
    "len(talk_reader.metadata)"
   ]
  },
  {
   "cell_type": "code",
   "execution_count": null,
   "metadata": {},
   "outputs": [],
   "source": [
    "talks_that_went_wrong.select(pl.col(\"talk\").list.get(0)).sort(\n",
    "    pl.col(\"talk\").str.len_chars()\n",
    ")"
   ]
  },
  {
   "cell_type": "code",
   "execution_count": null,
   "metadata": {},
   "outputs": [],
   "source": [
    "print(talks_that_went_wrong[\"traceback\"][0])"
   ]
  }
 ],
 "metadata": {
  "kernelspec": {
   "display_name": "amruta",
   "language": "python",
   "name": "python3"
  },
  "language_info": {
   "codemirror_mode": {
    "name": "ipython",
    "version": 3
   },
   "file_extension": ".py",
   "mimetype": "text/x-python",
   "name": "python",
   "nbconvert_exporter": "python",
   "pygments_lexer": "ipython3",
   "version": "3.10.6"
  }
 },
 "nbformat": 4,
 "nbformat_minor": 2
}
